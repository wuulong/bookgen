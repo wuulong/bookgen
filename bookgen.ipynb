{
 "cells": [
  {
   "cell_type": "markdown",
   "metadata": {},
   "source": [
    "# LLM 輔助書籍生成程式 - Jupyter Notebook 使用範例\n",
    "verison: V0.1\n",
    "\n",
    "本 Notebook 示範如何使用 `bookgen.py` 程式碼 (物件導向版本)，協助您快速生成書籍大綱與章節內容。\n",
    "\n",
    "**使用步驟：**\n",
    "\n",
    "1.  **確認檔案:**\n",
    "    *   請確保您已將更新後的 `bookgen.py` 程式碼檔案和 `config.yaml` 設定檔放在同一個目錄下，或者 Jupyter Notebook 可以訪問到的路徑。\n",
    "    *   請檢查 `config.yaml` 設定檔，並根據您的需求修改相關參數，**特別是 `gemini_api_key` 請務必替換成您自己的 Gemini API 金鑰。**\n",
    "    *   如果您要使用檔案上傳功能，請在程式執行目錄下建立名為 `upload_files` 的資料夾 (或者您在 `config.yaml` 中 `upload_directory` 設定的路徑)，並將您的 `.md` 檔案放入該資料夾中。\n",
    "\n",
    "2.  **執行 Notebook Cell:**\n",
    "    *   按照 Notebook 中的 Cell 順序，逐個執行。每個 Cell 的 Markdown 說明提供了該 Cell 的功能與操作步驟。\n",
    "    *   執行過程中，請留意 Cell 的輸出結果與說明，根據需要修改程式碼或設定。\n",
    "\n",
    "3.  **客製化與擴充:**\n",
    "    *   您可以根據您的需求，修改 `config.yaml` 設定檔中的參數，例如主題、偏好、提示詞模板等。\n",
    "    *   如果您熟悉 Python 程式碼，也可以直接修改 `bookgen.py` 檔案，擴充或客製化程式功能。\n",
    "\n",
    "**開始使用！**"
   ]
  },
  {
   "cell_type": "markdown",
   "metadata": {},
   "source": [
    "## 步驟 1： 導入程式碼並建立 BookGen 物件"
   ]
  },
  {
   "cell_type": "code",
   "execution_count": null,
   "metadata": {},
   "outputs": [],
   "source": [
    "import bookgen as lbg\n",
    "import datetime # 導入 datetime 模組\n",
    "\n",
    "# 建立 BookGen 物件\n",
    "book_gen = lbg.BookGen()"
   ]
  },
  {
   "cell_type": "markdown",
   "metadata": {},
   "source": [
    "## 步驟 2： 查看設定檔與程式狀態 (已自動載入)"
   ]
  },
  {
   "cell_type": "code",
   "execution_count": null,
   "metadata": {},
   "outputs": [],
   "source": [
    "# 查看設定檔\n",
    "print(book_gen.config)\n",
    "\n",
    "# 查看程式狀態 (目前狀態)\n",
    "print(book_gen.state)"
   ]
  },
  {
   "cell_type": "markdown",
   "metadata": {},
   "source": [
    "## 步驟 3： (如果啟用檔案上傳) 上傳檔案並讀取內容"
   ]
  },
  {
   "cell_type": "code",
   "execution_count": null,
   "metadata": {},
   "outputs": [],
   "source": [
    "\n",
    "book_gen.setup_client()\n",
    "uploaded_file_content = book_gen.upload_files()\n",
    "book_gen.save_state() # 儲存狀態\n",
    "#print(\"\\n已讀取檔案內容 (部分顯示):\\n\", uploaded_file_content[:500] + \"...\" if uploaded_file_content else \"無\") # 顯示部分內容"
   ]
  },
  {
   "cell_type": "markdown",
   "metadata": {},
   "source": [
    "## 步驟 4： 生成書籍大綱"
   ]
  },
  {
   "cell_type": "code",
   "execution_count": null,
   "metadata": {},
   "outputs": [],
   "source": [
    "\n",
    "\n",
    "if not book_gen.book_structure: # 如果 book_structure 為空，才生成大綱，避免重複生成\n",
    "    book_gen.generate_outline(False)\n",
    "\n",
    "\n",
    "    book_gen.book_structure, outline_prompt = book_gen.parse_outline()\n",
    "\n",
    "    book_gen.state['book_structure'] = book_gen.book_structure # 更新狀態\n",
    "    book_gen.state['prompt_log'] = book_gen.prompt_log + [{'type': 'outline_prompt', 'prompt': outline_prompt, 'timestamp': datetime.datetime.now().isoformat(), 'uploaded_files': book_gen.uploaded_files_list}] # 記錄 prompt\n",
    "    book_gen.save_state() # 儲存狀態\n",
    "else:\n",
    "    print(\"已載入書籍大綱，跳過大綱生成。\")\n",
    "\n",
    "#book_gen.book_structure # 顯示書籍結構"
   ]
  },
  {
   "cell_type": "markdown",
   "metadata": {},
   "source": [
    "## 步驟 5： 匯出章節摘要並上傳"
   ]
  },
  {
   "cell_type": "code",
   "execution_count": null,
   "metadata": {},
   "outputs": [],
   "source": [
    "export_level = 'chapters_selected' # 可選: 'all', 'outline_only', 'chapters_selected'\n",
    "book_gen.export_book_to_markdown(export_level=export_level)\n",
    "uploaded_file_content = book_gen.upload_files()\n",
    "book_gen.save_state() # 儲存狀態"
   ]
  },
  {
   "cell_type": "markdown",
   "metadata": {},
   "source": [
    "## 步驟 6： 選擇章節/節點並生成詳細內容"
   ]
  },
  {
   "cell_type": "code",
   "execution_count": null,
   "metadata": {},
   "outputs": [],
   "source": [
    "chapter_section_titles = book_gen.get_chapter_section_titles()\n",
    "# get index list of chapter_section_titles\n",
    "index_list = []\n",
    "for chapter_section_title in chapter_section_titles:\n",
    "    if chapter_section_title['type']=='section':\n",
    "        index_list.append(chapter_section_title['index'])\n",
    "print(index_list)\n",
    "chapter_section_titles"
   ]
  },
  {
   "cell_type": "code",
   "execution_count": null,
   "metadata": {},
   "outputs": [],
   "source": [
    "import datetime # 導入 datetime 模組\n",
    "chapter_section_titles = book_gen.get_chapter_section_titles()\n",
    "selected_titles = ['4.1', '4.2', '4.3'] #  <---  請修改為您想要生成詳細內容的章節/節點 index\n",
    "\n",
    "for item in chapter_section_titles:\n",
    "    if str(item['index']) in selected_titles: # 將 index 轉為字串比對\n",
    "        if item['type'] == 'section': # 節點\n",
    "            chapter_title = item['chapter_title']\n",
    "            section_title = item['title']\n",
    "            if not book_gen.book_structure[chapter_title]['sections'][section_title]['content']: # 如果節點內容為空，才生成\n",
    "                file_path = book_gen.generate_section_content(item['index'],chapter_title, section_title)\n",
    "                prompt, content_text= book_gen.parse_section(file_path)\n",
    "                book_gen.book_structure[chapter_title]['sections'][section_title]['content'] = content_text # 更新節點內容\n",
    "                book_gen.state['book_structure'] = book_gen.book_structure # 更新狀態\n",
    "                book_gen.state['prompt_log'] = book_gen.prompt_log + [{'type': 'chapter_content_prompt', 'chapter': chapter_title, 'section': section_title, 'prompt': prompt, 'timestamp': datetime.datetime.now().isoformat(), 'uploaded_files': book_gen.uploaded_files_list}] # 記錄 prompt\n",
    "                book_gen.save_state() # 儲存狀態\n",
    "                print(f\"\\n已生成 {chapter_title} - {section_title} 的詳細內容。\")\n",
    "            else:\n",
    "                print(f\"已載入 {chapter_title} - {section_title} 的詳細內容，跳過生成。\")\n",
    "        elif item['type'] == 'chapter': # 章節 (如果您想要章節也生成詳細內容，可以加入此判斷)\n",
    "            pass # 章節層級目前只生成摘要，詳細內容針對節點\n",
    "\n",
    "#book_gen.book_structure # 再次顯示更新後的書籍結構，包含章節內容"
   ]
  },
  {
   "cell_type": "markdown",
   "metadata": {},
   "source": [
    "## 步驟 7：完成匯出書籍與狀態"
   ]
  },
  {
   "cell_type": "code",
   "execution_count": null,
   "metadata": {},
   "outputs": [],
   "source": [
    "export_level = 'all' # 可選: 'all', 'outline_only', 'chapters_selected'\n",
    "book_gen.export_book_to_markdown(export_level=export_level)\n",
    "#uploaded_file_content = book_gen.upload_files()\n",
    "book_gen.save_state() # 儲存狀態"
   ]
  },
  {
   "cell_type": "markdown",
   "metadata": {},
   "source": [
    "## 步驟 8： 查看 Prompt 紀錄 (可選)"
   ]
  },
  {
   "cell_type": "code",
   "execution_count": null,
   "metadata": {},
   "outputs": [],
   "source": [
    "book_gen.state['prompt_log'] # 顯示 Prompt 紀錄"
   ]
  },
  {
   "cell_type": "markdown",
   "metadata": {},
   "source": [
    "您可以根據您的需求，重複執行步驟 6，生成更多章節內容，並匯出更新後的書籍。\n",
    "\n"
   ]
  },
  {
   "cell_type": "markdown",
   "metadata": {},
   "source": [
    "# Debug"
   ]
  },
  {
   "cell_type": "code",
   "execution_count": null,
   "metadata": {},
   "outputs": [],
   "source": [
    "book_gen.state"
   ]
  }
 ],
 "metadata": {
  "kernelspec": {
   "display_name": "m2502",
   "language": "python",
   "name": "python3"
  },
  "language_info": {
   "codemirror_mode": {
    "name": "ipython",
    "version": 3
   },
   "file_extension": ".py",
   "mimetype": "text/x-python",
   "name": "python",
   "nbconvert_exporter": "python",
   "pygments_lexer": "ipython3",
   "version": "3.11.11"
  }
 },
 "nbformat": 4,
 "nbformat_minor": 4
}
